{
 "cells": [
  {
   "cell_type": "code",
   "execution_count": 1,
   "id": "72a67374",
   "metadata": {},
   "outputs": [],
   "source": [
    "import pandas as pd\n",
    "from scipy import stats\n",
    "import numpy as np\n"
   ]
  },
  {
   "cell_type": "markdown",
   "id": "ca42ec25",
   "metadata": {},
   "source": [
    "# Descriptive analytics"
   ]
  },
  {
   "cell_type": "code",
   "execution_count": 7,
   "id": "786900d3",
   "metadata": {},
   "outputs": [
    {
     "name": "stdout",
     "output_type": "stream",
     "text": [
      "    Gender Test preparation  Total Marks\n",
      "0     male             none           14\n",
      "1   female             none           28\n",
      "2   female             none           18\n",
      "3   female             none           48\n",
      "4   female             none           21\n",
      "5   female        completed           40\n",
      "6     male             none           30\n",
      "7   female             none           12\n",
      "8     male             none           18\n",
      "9     male             none           24\n",
      "10    male        completed           44\n",
      "11    male             none           23\n",
      "12    male        completed           43\n",
      "13    male             none           28\n",
      "14  female             none           41\n",
      "15  female             none           13\n",
      "16  female        completed           48\n",
      "17  female             none           45\n",
      "18    male             none           47\n",
      "19    male             none           36\n",
      "20    male             none           14\n",
      "21    male        completed           44\n",
      "22  female             none           41\n",
      "23  female             none           27\n",
      "24  female             none           27\n",
      "25  female             none           38\n",
      "26  female        completed           50\n",
      "27  female        completed           43\n"
     ]
    }
   ],
   "source": [
    "df=pd.read_csv('Week_8_Q&A_dataset - Sheet1.csv')\n",
    "print(df)"
   ]
  },
  {
   "cell_type": "code",
   "execution_count": 8,
   "id": "2f797fb7",
   "metadata": {},
   "outputs": [
    {
     "data": {
      "text/html": [
       "<div>\n",
       "<style scoped>\n",
       "    .dataframe tbody tr th:only-of-type {\n",
       "        vertical-align: middle;\n",
       "    }\n",
       "\n",
       "    .dataframe tbody tr th {\n",
       "        vertical-align: top;\n",
       "    }\n",
       "\n",
       "    .dataframe thead th {\n",
       "        text-align: right;\n",
       "    }\n",
       "</style>\n",
       "<table border=\"1\" class=\"dataframe\">\n",
       "  <thead>\n",
       "    <tr style=\"text-align: right;\">\n",
       "      <th></th>\n",
       "      <th>Gender</th>\n",
       "      <th>Test preparation</th>\n",
       "      <th>Total Marks</th>\n",
       "    </tr>\n",
       "  </thead>\n",
       "  <tbody>\n",
       "    <tr>\n",
       "      <th>0</th>\n",
       "      <td>male</td>\n",
       "      <td>none</td>\n",
       "      <td>14</td>\n",
       "    </tr>\n",
       "    <tr>\n",
       "      <th>1</th>\n",
       "      <td>female</td>\n",
       "      <td>none</td>\n",
       "      <td>28</td>\n",
       "    </tr>\n",
       "    <tr>\n",
       "      <th>2</th>\n",
       "      <td>female</td>\n",
       "      <td>none</td>\n",
       "      <td>18</td>\n",
       "    </tr>\n",
       "    <tr>\n",
       "      <th>3</th>\n",
       "      <td>female</td>\n",
       "      <td>none</td>\n",
       "      <td>48</td>\n",
       "    </tr>\n",
       "    <tr>\n",
       "      <th>4</th>\n",
       "      <td>female</td>\n",
       "      <td>none</td>\n",
       "      <td>21</td>\n",
       "    </tr>\n",
       "  </tbody>\n",
       "</table>\n",
       "</div>"
      ],
      "text/plain": [
       "   Gender Test preparation  Total Marks\n",
       "0    male             none           14\n",
       "1  female             none           28\n",
       "2  female             none           18\n",
       "3  female             none           48\n",
       "4  female             none           21"
      ]
     },
     "execution_count": 8,
     "metadata": {},
     "output_type": "execute_result"
    }
   ],
   "source": [
    "df.head()"
   ]
  },
  {
   "cell_type": "code",
   "execution_count": 9,
   "id": "1c99c671",
   "metadata": {},
   "outputs": [
    {
     "data": {
      "text/plain": [
       "female    16\n",
       "male      12\n",
       "Name: Gender, dtype: int64"
      ]
     },
     "execution_count": 9,
     "metadata": {},
     "output_type": "execute_result"
    }
   ],
   "source": [
    "df['Gender'].value_counts()"
   ]
  },
  {
   "cell_type": "code",
   "execution_count": 10,
   "id": "38efbd0b",
   "metadata": {},
   "outputs": [
    {
     "data": {
      "text/html": [
       "<div>\n",
       "<style scoped>\n",
       "    .dataframe tbody tr th:only-of-type {\n",
       "        vertical-align: middle;\n",
       "    }\n",
       "\n",
       "    .dataframe tbody tr th {\n",
       "        vertical-align: top;\n",
       "    }\n",
       "\n",
       "    .dataframe thead th {\n",
       "        text-align: right;\n",
       "    }\n",
       "</style>\n",
       "<table border=\"1\" class=\"dataframe\">\n",
       "  <thead>\n",
       "    <tr style=\"text-align: right;\">\n",
       "      <th></th>\n",
       "      <th>Total Marks</th>\n",
       "    </tr>\n",
       "  </thead>\n",
       "  <tbody>\n",
       "    <tr>\n",
       "      <th>count</th>\n",
       "      <td>28.000000</td>\n",
       "    </tr>\n",
       "    <tr>\n",
       "      <th>mean</th>\n",
       "      <td>32.321429</td>\n",
       "    </tr>\n",
       "    <tr>\n",
       "      <th>std</th>\n",
       "      <td>12.454520</td>\n",
       "    </tr>\n",
       "    <tr>\n",
       "      <th>min</th>\n",
       "      <td>12.000000</td>\n",
       "    </tr>\n",
       "    <tr>\n",
       "      <th>25%</th>\n",
       "      <td>22.500000</td>\n",
       "    </tr>\n",
       "    <tr>\n",
       "      <th>50%</th>\n",
       "      <td>33.000000</td>\n",
       "    </tr>\n",
       "    <tr>\n",
       "      <th>75%</th>\n",
       "      <td>43.250000</td>\n",
       "    </tr>\n",
       "    <tr>\n",
       "      <th>max</th>\n",
       "      <td>50.000000</td>\n",
       "    </tr>\n",
       "  </tbody>\n",
       "</table>\n",
       "</div>"
      ],
      "text/plain": [
       "       Total Marks\n",
       "count    28.000000\n",
       "mean     32.321429\n",
       "std      12.454520\n",
       "min      12.000000\n",
       "25%      22.500000\n",
       "50%      33.000000\n",
       "75%      43.250000\n",
       "max      50.000000"
      ]
     },
     "execution_count": 10,
     "metadata": {},
     "output_type": "execute_result"
    }
   ],
   "source": [
    "df.describe()"
   ]
  },
  {
   "cell_type": "code",
   "execution_count": 12,
   "id": "0ef966f8",
   "metadata": {},
   "outputs": [
    {
     "data": {
      "text/plain": [
       "Gender              0\n",
       "Test preparation    0\n",
       "Total Marks         0\n",
       "dtype: int64"
      ]
     },
     "execution_count": 12,
     "metadata": {},
     "output_type": "execute_result"
    }
   ],
   "source": [
    "df.isna().sum()"
   ]
  },
  {
   "cell_type": "code",
   "execution_count": 13,
   "id": "a1a423af",
   "metadata": {},
   "outputs": [
    {
     "data": {
      "text/html": [
       "<div>\n",
       "<style scoped>\n",
       "    .dataframe tbody tr th:only-of-type {\n",
       "        vertical-align: middle;\n",
       "    }\n",
       "\n",
       "    .dataframe tbody tr th {\n",
       "        vertical-align: top;\n",
       "    }\n",
       "\n",
       "    .dataframe thead th {\n",
       "        text-align: right;\n",
       "    }\n",
       "</style>\n",
       "<table border=\"1\" class=\"dataframe\">\n",
       "  <thead>\n",
       "    <tr style=\"text-align: right;\">\n",
       "      <th></th>\n",
       "      <th>Total Marks</th>\n",
       "    </tr>\n",
       "    <tr>\n",
       "      <th>Gender</th>\n",
       "      <th></th>\n",
       "    </tr>\n",
       "  </thead>\n",
       "  <tbody>\n",
       "    <tr>\n",
       "      <th>female</th>\n",
       "      <td>33.750000</td>\n",
       "    </tr>\n",
       "    <tr>\n",
       "      <th>male</th>\n",
       "      <td>30.416667</td>\n",
       "    </tr>\n",
       "  </tbody>\n",
       "</table>\n",
       "</div>"
      ],
      "text/plain": [
       "        Total Marks\n",
       "Gender             \n",
       "female    33.750000\n",
       "male      30.416667"
      ]
     },
     "execution_count": 13,
     "metadata": {},
     "output_type": "execute_result"
    }
   ],
   "source": [
    "df.groupby(['Gender']).mean()"
   ]
  },
  {
   "cell_type": "code",
   "execution_count": 14,
   "id": "a5d1c33d",
   "metadata": {},
   "outputs": [
    {
     "data": {
      "text/html": [
       "<div>\n",
       "<style scoped>\n",
       "    .dataframe tbody tr th:only-of-type {\n",
       "        vertical-align: middle;\n",
       "    }\n",
       "\n",
       "    .dataframe tbody tr th {\n",
       "        vertical-align: top;\n",
       "    }\n",
       "\n",
       "    .dataframe thead th {\n",
       "        text-align: right;\n",
       "    }\n",
       "</style>\n",
       "<table border=\"1\" class=\"dataframe\">\n",
       "  <thead>\n",
       "    <tr style=\"text-align: right;\">\n",
       "      <th></th>\n",
       "      <th>Total Marks</th>\n",
       "    </tr>\n",
       "    <tr>\n",
       "      <th>Test preparation</th>\n",
       "      <th></th>\n",
       "    </tr>\n",
       "  </thead>\n",
       "  <tbody>\n",
       "    <tr>\n",
       "      <th>completed</th>\n",
       "      <td>44.571429</td>\n",
       "    </tr>\n",
       "    <tr>\n",
       "      <th>none</th>\n",
       "      <td>28.238095</td>\n",
       "    </tr>\n",
       "  </tbody>\n",
       "</table>\n",
       "</div>"
      ],
      "text/plain": [
       "                  Total Marks\n",
       "Test preparation             \n",
       "completed           44.571429\n",
       "none                28.238095"
      ]
     },
     "execution_count": 14,
     "metadata": {},
     "output_type": "execute_result"
    }
   ],
   "source": [
    "df.groupby(['Test preparation']).mean()"
   ]
  },
  {
   "cell_type": "markdown",
   "id": "8e458f39",
   "metadata": {},
   "source": [
    "# Check whether female and male students scored the same marks.\n"
   ]
  },
  {
   "cell_type": "markdown",
   "id": "8b4b21e7",
   "metadata": {},
   "source": [
    "Null hypothesis H0: male marks < female marks\n",
    "\n",
    "Alternate Hypothesis H1: male marks > female marks"
   ]
  },
  {
   "cell_type": "code",
   "execution_count": 15,
   "id": "eced5018",
   "metadata": {},
   "outputs": [
    {
     "data": {
      "text/plain": [
       "0     14\n",
       "6     30\n",
       "8     18\n",
       "9     24\n",
       "10    44\n",
       "11    23\n",
       "12    43\n",
       "13    28\n",
       "18    47\n",
       "19    36\n",
       "20    14\n",
       "21    44\n",
       "Name: Total Marks, dtype: int64"
      ]
     },
     "execution_count": 15,
     "metadata": {},
     "output_type": "execute_result"
    }
   ],
   "source": [
    "boys_mark=df[df['Gender']=='male']\n",
    "boys_mark['Total Marks']"
   ]
  },
  {
   "cell_type": "code",
   "execution_count": 16,
   "id": "d3c4d402",
   "metadata": {},
   "outputs": [
    {
     "data": {
      "text/plain": [
       "1     28\n",
       "2     18\n",
       "3     48\n",
       "4     21\n",
       "5     40\n",
       "7     12\n",
       "14    41\n",
       "15    13\n",
       "16    48\n",
       "17    45\n",
       "22    41\n",
       "23    27\n",
       "24    27\n",
       "25    38\n",
       "26    50\n",
       "27    43\n",
       "Name: Total Marks, dtype: int64"
      ]
     },
     "execution_count": 16,
     "metadata": {},
     "output_type": "execute_result"
    }
   ],
   "source": [
    "female_mark=df.loc[(df['Gender']=='female')]\n",
    "female_mark['Total Marks']\n"
   ]
  },
  {
   "cell_type": "code",
   "execution_count": 17,
   "id": "a81345a5",
   "metadata": {},
   "outputs": [],
   "source": [
    "t_stat,p_value=stats.ttest_ind(boys_mark['Total Marks'],female_mark['Total Marks'],alternative='less')"
   ]
  },
  {
   "cell_type": "code",
   "execution_count": 18,
   "id": "f6106ceb",
   "metadata": {},
   "outputs": [
    {
     "name": "stdout",
     "output_type": "stream",
     "text": [
      "T Statistics value is:  -0.6940885268848668 P value is:  0.24689111589803814\n"
     ]
    }
   ],
   "source": [
    "print('T Statistics value is: ',t_stat, 'P value is: ',p_value)\n"
   ]
  },
  {
   "cell_type": "markdown",
   "id": "216a457a",
   "metadata": {},
   "source": [
    "T Statistics value is:  -0.6940885268848668 P value is:  0.24689111589803814\n",
    "Let us assume that alpha value is 0.05, our p value is 0.246 which is greater than alpha value. So, we reject null hypothesis.\n",
    "\n",
    "Conclusion:- Female students scored higher than male"
   ]
  },
  {
   "cell_type": "markdown",
   "id": "47fa7652",
   "metadata": {},
   "source": [
    "# Whether test preparation helps the students?"
   ]
  },
  {
   "cell_type": "markdown",
   "id": "a870c0a2",
   "metadata": {},
   "source": [
    "H0: the students who completed the test preparation <= students who didn't completed the test preparation\n",
    "\n",
    "H1: the students who completed the test preparation > students who didn't completed the test preparation\n",
    "\n",
    "\n"
   ]
  },
  {
   "cell_type": "code",
   "execution_count": 19,
   "id": "4eebfd8a",
   "metadata": {},
   "outputs": [],
   "source": [
    "completed_marks=df.loc[(df['Test preparation']=='completed')]"
   ]
  },
  {
   "cell_type": "code",
   "execution_count": 20,
   "id": "4c5e2b17",
   "metadata": {},
   "outputs": [
    {
     "data": {
      "text/plain": [
       "5     40\n",
       "10    44\n",
       "12    43\n",
       "16    48\n",
       "21    44\n",
       "26    50\n",
       "27    43\n",
       "Name: Total Marks, dtype: int64"
      ]
     },
     "execution_count": 20,
     "metadata": {},
     "output_type": "execute_result"
    }
   ],
   "source": [
    "completed_marks['Total Marks']"
   ]
  },
  {
   "cell_type": "code",
   "execution_count": 22,
   "id": "77007039",
   "metadata": {},
   "outputs": [],
   "source": [
    "none_marks=df.loc[(df['Test preparation']=='none')]\n"
   ]
  },
  {
   "cell_type": "code",
   "execution_count": 23,
   "id": "9f2d5eaf",
   "metadata": {},
   "outputs": [
    {
     "data": {
      "text/plain": [
       "0     14\n",
       "1     28\n",
       "2     18\n",
       "3     48\n",
       "4     21\n",
       "6     30\n",
       "7     12\n",
       "8     18\n",
       "9     24\n",
       "11    23\n",
       "13    28\n",
       "14    41\n",
       "15    13\n",
       "17    45\n",
       "18    47\n",
       "19    36\n",
       "20    14\n",
       "22    41\n",
       "23    27\n",
       "24    27\n",
       "25    38\n",
       "Name: Total Marks, dtype: int64"
      ]
     },
     "execution_count": 23,
     "metadata": {},
     "output_type": "execute_result"
    }
   ],
   "source": [
    "none_marks['Total Marks']"
   ]
  },
  {
   "cell_type": "code",
   "execution_count": 24,
   "id": "c58b9030",
   "metadata": {},
   "outputs": [
    {
     "name": "stdout",
     "output_type": "stream",
     "text": [
      "T-statistics value is:  3.6143637527769217 P-Value is:  0.0006335646228660053\n"
     ]
    }
   ],
   "source": [
    "t_stat,P_value=stats.ttest_ind(completed_marks['Total Marks'],none_marks['Total Marks'],alternative='greater')\n",
    "print('T-statistics value is: ',t_stat,'P-Value is: ',P_value)"
   ]
  },
  {
   "cell_type": "markdown",
   "id": "df006987",
   "metadata": {},
   "source": [
    "T-statistics value is:  3.6143637527769217 P-Value is:  0.0006335646228660053\n",
    "Let us assume that our alpha is 0.05, from the above we can see that our value for P-value is 0.0006. So, we reject the null hypothesis value.\n",
    "\n",
    "Conclusion:-The students who completed test preparation scored greater than the students who didn't."
   ]
  }
 ],
 "metadata": {
  "kernelspec": {
   "display_name": "Python 3",
   "language": "python",
   "name": "python3"
  },
  "language_info": {
   "codemirror_mode": {
    "name": "ipython",
    "version": 3
   },
   "file_extension": ".py",
   "mimetype": "text/x-python",
   "name": "python",
   "nbconvert_exporter": "python",
   "pygments_lexer": "ipython3",
   "version": "3.8.8"
  }
 },
 "nbformat": 4,
 "nbformat_minor": 5
}
